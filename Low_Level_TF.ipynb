{
 "cells": [
  {
   "cell_type": "code",
   "execution_count": 25,
   "id": "79b84136",
   "metadata": {},
   "outputs": [],
   "source": [
    "%config Completer.use_jedi=False\n",
    "import pandas as pd\n",
    "import tensorflow as tf\n"
   ]
  },
  {
   "cell_type": "markdown",
   "id": "5dceb4ff",
   "metadata": {},
   "source": [
    "#### Load the dataset"
   ]
  },
  {
   "cell_type": "code",
   "execution_count": 14,
   "id": "a83d38c1",
   "metadata": {},
   "outputs": [],
   "source": [
    "dataset = pd.read_csv('classification_dataset.csv')"
   ]
  },
  {
   "cell_type": "markdown",
   "id": "7f0f56c6",
   "metadata": {},
   "source": [
    "#### Define the loss function"
   ]
  },
  {
   "cell_type": "code",
   "execution_count": 15,
   "id": "b4024775",
   "metadata": {},
   "outputs": [],
   "source": [
    "def loss_fn(y_true, y_pred):\n",
    "    \"\"\"\n",
    "    This function calculates the loss function\n",
    "    \"\"\"\n",
    "    return tf.reduce_mean(tf.square(y_true - y_pred))"
   ]
  },
  {
   "cell_type": "markdown",
   "id": "753a2eca",
   "metadata": {},
   "source": [
    "#### Define function to perform prediction"
   ]
  },
  {
   "cell_type": "code",
   "execution_count": 16,
   "id": "4e165d82-5b8e-47c8-a4ab-86e977c49f4e",
   "metadata": {},
   "outputs": [],
   "source": [
    "def sigmoid(x):\n",
    "    \"\"\" \n",
    "    This function calculates the sigmoid function.\n",
    "    \"\"\"\n",
    "    return 1 / (1 + tf.exp(-x))\n",
    "\n",
    "def relu(x):\n",
    "    \"\"\" \n",
    "    This function calculates the ReLU function.\n",
    "    \"\"\"\n",
    "    return tf.maximum(0, x)\n",
    "\n",
    "def forward(inputs, weights, biases):\n",
    "    \"\"\" \n",
    "    This function calculates the forward pass (predicts the label).\n",
    "    \"\"\"\n",
    "    hidden_output = relu(tf.matmul(inputs, weights[0]) + biases[0])\n",
    "    output = tf.matmul(hidden_output, weights[1]) + biases[1]\n",
    "    return output"
   ]
  },
  {
   "cell_type": "markdown",
   "id": "e7bc735b",
   "metadata": {},
   "source": [
    "#### Define function for model training\n",
    "Display the training and validation loss values for each epoch of the training loop. The displayed value must be in 6 decimal places.<br>\n",
    "Hint: <br>\n",
    "Use `tf.GradientTape` to compute the gradients."
   ]
  },
  {
   "cell_type": "code",
   "execution_count": 17,
   "id": "fe17ccc5",
   "metadata": {},
   "outputs": [],
   "source": [
    "import tensorflow as tf\n",
    "\n",
    "def train(model, optimizer, x_train, y_train, weights, biases):\n",
    "    with tf.GradientTape() as tape:\n",
    "        predictions = model(x_train, weights, biases)\n",
    "        loss = tf.reduce_mean(tf.square(predictions - y_train))  # Mean Squared Error loss\n",
    "    \n",
    "    gradients = tape.gradient(loss, weights + biases)\n",
    "    optimizer.apply_gradients(zip(gradients, weights + biases))\n",
    "    return loss\n",
    "\n",
    "\n",
    "\n",
    "def fit(model, optimizer, train_data, valid_data, weights, biases, epochs, batch_size, patience):\n",
    "    train_losses = []\n",
    "    valid_losses = []\n",
    "    best_valid_loss = float('inf')\n",
    "    epochs_no_improve = 0\n",
    "    \n",
    "    for epoch in range(epochs):\n",
    "        print(\"Epoch {}/{}\".format(epoch + 1, epochs))\n",
    "        epoch_train_loss = 0.0\n",
    "        \n",
    "        # Mini-batch training loop\n",
    "        for batch in range(len(train_data[0]) // batch_size):\n",
    "            start = batch * batch_size\n",
    "            end = start + batch_size\n",
    "            x_batch = train_data[0][start:end]\n",
    "            y_batch = train_data[1][start:end]\n",
    "            batch_loss = train(model, optimizer, x_batch, y_batch, weights, biases)\n",
    "            epoch_train_loss += batch_loss.numpy()\n",
    "        \n",
    "        epoch_train_loss /= len(train_data[0]) // batch_size\n",
    "        train_losses.append(epoch_train_loss)\n",
    "        print(\"Epoch Train Loss: {:.6f}\".format(epoch_train_loss))\n",
    "        \n",
    "        # Validation loss\n",
    "        val_predictions = model(valid_data[0], weights, biases)\n",
    "        val_loss = tf.reduce_mean(tf.square(val_predictions - valid_data[1]))\n",
    "        valid_loss = val_loss.numpy()\n",
    "        valid_losses.append(valid_loss)\n",
    "        print(\"Epoch Valid Loss: {:.6f}\".format(valid_loss))\n",
    "        \n",
    "        # Early stopping\n",
    "        if valid_loss < best_valid_loss:\n",
    "            best_valid_loss = valid_loss\n",
    "            epochs_no_improve = 0\n",
    "        else:\n",
    "            epochs_no_improve += 1\n",
    "            if epochs_no_improve == patience:\n",
    "                print(\"Early stopping! No improvement in validation loss for {} epochs.\".format(patience))\n",
    "                break\n",
    "    \n",
    "    return train_losses, valid_losses"
   ]
  },
  {
   "cell_type": "markdown",
   "id": "28f45213",
   "metadata": {},
   "source": [
    "#### Define the tensors to hold the weights and biases (create the model)\n",
    "Hint: <br>\n",
    "Use `tf.Variable` to create the tensors.<br>\n",
    "Put the tensors in a list."
   ]
  },
  {
   "cell_type": "code",
   "execution_count": 18,
   "id": "a2e2172b",
   "metadata": {},
   "outputs": [],
   "source": [
    "# Define the dimensions of the layers\n",
    "input_dim = 5  # This should be the number of input features\n",
    "hidden_dim = 15  # This can be any number you choose\n",
    "output_dim = 1  # This should be the number of output classes\n",
    "\n",
    "# Initialize the weights and biases with random values\n",
    "weights = [\n",
    "    tf.Variable(tf.random.normal([input_dim, hidden_dim]), name='W1'),\n",
    "    tf.Variable(tf.random.normal([hidden_dim, output_dim]), name='W2')\n",
    "]\n",
    "\n",
    "biases = [\n",
    "    tf.Variable(tf.zeros([hidden_dim]), name='b1'),\n",
    "    tf.Variable(tf.zeros([output_dim]), name='b2')\n",
    "]"
   ]
  },
  {
   "cell_type": "markdown",
   "id": "176badb8",
   "metadata": {},
   "source": [
    "#### Split the dataset\n",
    "The ratio of training and test is 7:1:2."
   ]
  },
  {
   "cell_type": "code",
   "execution_count": 19,
   "id": "5fa1b9b6",
   "metadata": {},
   "outputs": [
    {
     "name": "stdout",
     "output_type": "stream",
     "text": [
      "Length of training set: 700\n",
      "Length of validation set: 100\n",
      "Length of test set: 200\n"
     ]
    }
   ],
   "source": [
    "from sklearn.model_selection import train_test_split\n",
    "\n",
    "# \n",
    "X = dataset.drop('label', axis=1)\n",
    "y = dataset['label']\n",
    "\n",
    "# Split the data into training, validation, and test sets\n",
    "X_train_val, X_test, y_train_val, y_test = train_test_split(X, y, test_size=0.2, random_state=None)\n",
    "X_train, X_val, y_train, y_val = train_test_split(X_train_val, y_train_val, test_size=0.125, random_state=None)  # 0.125 x 0.8 = 0.1\n",
    "\n",
    "# Print the lengths of each set\n",
    "print(\"Length of training set:\", len(X_train))\n",
    "print(\"Length of validation set:\", len(X_val))\n",
    "print(\"Length of test set:\", len(X_test))\n"
   ]
  },
  {
   "cell_type": "markdown",
   "id": "c3c4d6cf",
   "metadata": {},
   "source": [
    "#### Normalize the data"
   ]
  },
  {
   "cell_type": "code",
   "execution_count": 20,
   "id": "f689b7c6",
   "metadata": {},
   "outputs": [],
   "source": [
    "from sklearn.preprocessing import StandardScaler\n",
    "\n",
    "\n",
    "# Initialize a new StandardScaler instance\n",
    "scaler = StandardScaler()\n",
    "\n",
    "# Fit the scaler to the training data and transform it\n",
    "X_train_scaled = scaler.fit_transform(X_train)\n",
    "\n",
    "# Use the same scaler to transform the validation and test data\n",
    "X_val_scaled = scaler.transform(X_val)\n",
    "X_test_scaled = scaler.transform(X_test)\n"
   ]
  },
  {
   "cell_type": "markdown",
   "id": "b1a2e7d6",
   "metadata": {},
   "source": [
    "#### Train the model"
   ]
  },
  {
   "cell_type": "code",
   "execution_count": 21,
   "id": "6304c496",
   "metadata": {
    "scrolled": true
   },
   "outputs": [
    {
     "name": "stdout",
     "output_type": "stream",
     "text": [
      "Epoch 1/100\n",
      "Epoch Train Loss: 14.198530\n",
      "Epoch Valid Loss: 7.751219\n",
      "Epoch 2/100\n",
      "Epoch Train Loss: 4.451609\n",
      "Epoch Valid Loss: 3.143953\n",
      "Epoch 3/100\n",
      "Epoch Train Loss: 2.168837\n",
      "Epoch Valid Loss: 1.618498\n",
      "Epoch 4/100\n",
      "Epoch Train Loss: 1.168861\n",
      "Epoch Valid Loss: 0.938983\n",
      "Epoch 5/100\n",
      "Epoch Train Loss: 0.722798\n",
      "Epoch Valid Loss: 0.632411\n",
      "Epoch 6/100\n",
      "Epoch Train Loss: 0.539643\n",
      "Epoch Valid Loss: 0.509765\n",
      "Epoch 7/100\n",
      "Epoch Train Loss: 0.463926\n",
      "Epoch Valid Loss: 0.457774\n",
      "Epoch 8/100\n",
      "Epoch Train Loss: 0.428729\n",
      "Epoch Valid Loss: 0.431178\n",
      "Epoch 9/100\n",
      "Epoch Train Loss: 0.407884\n",
      "Epoch Valid Loss: 0.413420\n",
      "Epoch 10/100\n",
      "Epoch Train Loss: 0.392645\n",
      "Epoch Valid Loss: 0.399989\n",
      "Epoch 11/100\n",
      "Epoch Train Loss: 0.380839\n",
      "Epoch Valid Loss: 0.389124\n",
      "Epoch 12/100\n",
      "Epoch Train Loss: 0.370759\n",
      "Epoch Valid Loss: 0.380095\n",
      "Epoch 13/100\n",
      "Epoch Train Loss: 0.361667\n",
      "Epoch Valid Loss: 0.371986\n",
      "Epoch 14/100\n",
      "Epoch Train Loss: 0.353812\n",
      "Epoch Valid Loss: 0.364778\n",
      "Epoch 15/100\n",
      "Epoch Train Loss: 0.346785\n",
      "Epoch Valid Loss: 0.358323\n",
      "Epoch 16/100\n",
      "Epoch Train Loss: 0.340400\n",
      "Epoch Valid Loss: 0.351915\n",
      "Epoch 17/100\n",
      "Epoch Train Loss: 0.334655\n",
      "Epoch Valid Loss: 0.346780\n",
      "Epoch 18/100\n",
      "Epoch Train Loss: 0.329490\n",
      "Epoch Valid Loss: 0.341605\n",
      "Epoch 19/100\n",
      "Epoch Train Loss: 0.324714\n",
      "Epoch Valid Loss: 0.336516\n",
      "Epoch 20/100\n",
      "Epoch Train Loss: 0.320387\n",
      "Epoch Valid Loss: 0.331850\n",
      "Epoch 21/100\n",
      "Epoch Train Loss: 0.316393\n",
      "Epoch Valid Loss: 0.327044\n",
      "Epoch 22/100\n",
      "Epoch Train Loss: 0.312739\n",
      "Epoch Valid Loss: 0.322901\n",
      "Epoch 23/100\n",
      "Epoch Train Loss: 0.309219\n",
      "Epoch Valid Loss: 0.319148\n",
      "Epoch 24/100\n",
      "Epoch Train Loss: 0.306028\n",
      "Epoch Valid Loss: 0.315573\n",
      "Epoch 25/100\n",
      "Epoch Train Loss: 0.302938\n",
      "Epoch Valid Loss: 0.312436\n",
      "Epoch 26/100\n",
      "Epoch Train Loss: 0.300094\n",
      "Epoch Valid Loss: 0.308943\n",
      "Epoch 27/100\n",
      "Epoch Train Loss: 0.297495\n",
      "Epoch Valid Loss: 0.305789\n",
      "Epoch 28/100\n",
      "Epoch Train Loss: 0.295066\n",
      "Epoch Valid Loss: 0.302683\n",
      "Epoch 29/100\n",
      "Epoch Train Loss: 0.292575\n",
      "Epoch Valid Loss: 0.299755\n",
      "Epoch 30/100\n",
      "Epoch Train Loss: 0.290425\n",
      "Epoch Valid Loss: 0.297194\n",
      "Epoch 31/100\n",
      "Epoch Train Loss: 0.288383\n",
      "Epoch Valid Loss: 0.294954\n",
      "Epoch 32/100\n",
      "Epoch Train Loss: 0.286633\n",
      "Epoch Valid Loss: 0.292825\n",
      "Epoch 33/100\n",
      "Epoch Train Loss: 0.285005\n",
      "Epoch Valid Loss: 0.291062\n",
      "Epoch 34/100\n",
      "Epoch Train Loss: 0.283357\n",
      "Epoch Valid Loss: 0.289554\n",
      "Epoch 35/100\n",
      "Epoch Train Loss: 0.281812\n",
      "Epoch Valid Loss: 0.288088\n",
      "Epoch 36/100\n",
      "Epoch Train Loss: 0.280400\n",
      "Epoch Valid Loss: 0.286783\n",
      "Epoch 37/100\n",
      "Epoch Train Loss: 0.279068\n",
      "Epoch Valid Loss: 0.285506\n",
      "Epoch 38/100\n",
      "Epoch Train Loss: 0.277837\n",
      "Epoch Valid Loss: 0.284380\n",
      "Epoch 39/100\n",
      "Epoch Train Loss: 0.276719\n",
      "Epoch Valid Loss: 0.283247\n",
      "Epoch 40/100\n",
      "Epoch Train Loss: 0.275521\n",
      "Epoch Valid Loss: 0.282050\n",
      "Epoch 41/100\n",
      "Epoch Train Loss: 0.274547\n",
      "Epoch Valid Loss: 0.281114\n",
      "Epoch 42/100\n",
      "Epoch Train Loss: 0.273578\n",
      "Epoch Valid Loss: 0.280389\n",
      "Epoch 43/100\n",
      "Epoch Train Loss: 0.272764\n",
      "Epoch Valid Loss: 0.279395\n",
      "Epoch 44/100\n",
      "Epoch Train Loss: 0.271927\n",
      "Epoch Valid Loss: 0.278840\n",
      "Epoch 45/100\n",
      "Epoch Train Loss: 0.271093\n",
      "Epoch Valid Loss: 0.278348\n",
      "Epoch 46/100\n",
      "Epoch Train Loss: 0.270338\n",
      "Epoch Valid Loss: 0.277885\n",
      "Epoch 47/100\n",
      "Epoch Train Loss: 0.269564\n",
      "Epoch Valid Loss: 0.277573\n",
      "Epoch 48/100\n",
      "Epoch Train Loss: 0.268882\n",
      "Epoch Valid Loss: 0.277278\n",
      "Epoch 49/100\n",
      "Epoch Train Loss: 0.268225\n",
      "Epoch Valid Loss: 0.276723\n",
      "Epoch 50/100\n",
      "Epoch Train Loss: 0.267636\n",
      "Epoch Valid Loss: 0.276541\n",
      "Epoch 51/100\n",
      "Epoch Train Loss: 0.267044\n",
      "Epoch Valid Loss: 0.276293\n",
      "Epoch 52/100\n",
      "Epoch Train Loss: 0.266444\n",
      "Epoch Valid Loss: 0.276408\n",
      "Epoch 53/100\n",
      "Epoch Train Loss: 0.265897\n",
      "Epoch Valid Loss: 0.276449\n",
      "Epoch 54/100\n",
      "Epoch Train Loss: 0.265413\n",
      "Epoch Valid Loss: 0.276342\n",
      "Epoch 55/100\n",
      "Epoch Train Loss: 0.264965\n",
      "Epoch Valid Loss: 0.276401\n",
      "Epoch 56/100\n",
      "Epoch Train Loss: 0.264554\n",
      "Epoch Valid Loss: 0.276496\n",
      "Early stopping! No improvement in validation loss for 5 epochs.\n"
     ]
    }
   ],
   "source": [
    "# Define your model here\n",
    "model = forward\n",
    "\n",
    "# Define your optimizer\n",
    "optimizer = tf.optimizers.Adam(learning_rate=0.01)\n",
    "\n",
    "# Convert your datasets to TensorFlow tensors\n",
    "X_train_tensor = tf.convert_to_tensor(X_train_scaled, dtype=tf.float32)\n",
    "y_train_tensor = tf.convert_to_tensor(y_train.values, dtype=tf.float32)\n",
    "X_val_tensor = tf.convert_to_tensor(X_val_scaled, dtype=tf.float32)\n",
    "y_val_tensor = tf.convert_to_tensor(y_val.values, dtype=tf.float32)\n",
    "\n",
    "\n",
    "#Change parameter as needed\n",
    "epochs = 100\n",
    "batch_size = 16\n",
    "patience = 5\n",
    "\n",
    "# Train the model\n",
    "train_losses, valid_losses = fit(model, optimizer, (X_train_tensor, y_train_tensor), (X_val_tensor, y_val_tensor), weights, biases, epochs, batch_size, patience)\n"
   ]
  },
  {
   "cell_type": "markdown",
   "id": "45c41885",
   "metadata": {},
   "source": [
    "#### Display the training loss and validation loss against epoch graph"
   ]
  },
  {
   "cell_type": "code",
   "execution_count": 22,
   "id": "1812730a-1a58-4302-85ff-7a391f018b38",
   "metadata": {},
   "outputs": [
    {
     "data": {
      "image/png": "[encoded data removed]",
      "text/plain": [
       "<Figure size 640x480 with 1 Axes>"
      ]
     },
     "metadata": {},
     "output_type": "display_data"
    }
   ],
   "source": [
    "import matplotlib.pyplot as plt\n",
    "\n",
    "# Plot training and validation losses\n",
    "plt.plot(train_losses, label='Training Loss')\n",
    "plt.plot(valid_losses, label='Validation Loss')\n",
    "plt.xlabel('Epoch')\n",
    "plt.ylabel('Loss')\n",
    "plt.title('Training and Validation Loss')\n",
    "plt.legend()\n",
    "plt.show()\n"
   ]
  },
  {
   "cell_type": "markdown",
   "id": "0c0b4c38",
   "metadata": {},
   "source": [
    "#### Predict the test set"
   ]
  },
  {
   "cell_type": "code",
   "execution_count": 23,
   "id": "a84f73b1",
   "metadata": {},
   "outputs": [
    {
     "name": "stdout",
     "output_type": "stream",
     "text": [
      "Test Loss: 0.268303\n"
     ]
    }
   ],
   "source": [
    "# Convert your test set to TensorFlow tensors\n",
    "X_test_tensor = tf.convert_to_tensor(X_test_scaled, dtype=tf.float32)\n",
    "y_test_tensor = tf.convert_to_tensor(y_test.values, dtype=tf.float32)\n",
    "\n",
    "# Use the model to make predictions on the test set\n",
    "test_predictions = model(X_test_tensor, weights, biases)\n",
    "\n",
    "# Convert the predictions tensor to a NumPy array\n",
    "test_predictions_np = test_predictions.numpy()\n",
    "\n",
    "# Calculate the test loss using the provided loss function\n",
    "test_loss = loss_fn(y_test_tensor, test_predictions)\n",
    "\n",
    "# Display the test loss\n",
    "print(\"Test Loss: {:.6f}\".format(test_loss.numpy()))\n"
   ]
  },
  {
   "cell_type": "markdown",
   "id": "20d715ef",
   "metadata": {},
   "source": [
    "#### Display the confusion matrix and the classification report."
   ]
  },
  {
   "cell_type": "code",
   "execution_count": 24,
   "id": "c35deeb3",
   "metadata": {},
   "outputs": [
    {
     "name": "stdout",
     "output_type": "stream",
     "text": [
      "Confusion Matrix:\n",
      "[[30 65]\n",
      " [19 86]]\n",
      "\n",
      "Classification Report:\n",
      "              precision    recall  f1-score   support\n",
      "\n",
      "         0.0       0.61      0.32      0.42        95\n",
      "         1.0       0.57      0.82      0.67       105\n",
      "\n",
      "    accuracy                           0.58       200\n",
      "   macro avg       0.59      0.57      0.54       200\n",
      "weighted avg       0.59      0.58      0.55       200\n",
      "\n"
     ]
    }
   ],
   "source": [
    "from sklearn.metrics import confusion_matrix, classification_report\n",
    "\n",
    "# Convert predicted probabilities to binary predictions\n",
    "threshold = 0.5\n",
    "predicted_classes = (test_predictions_np >= threshold).astype(int)\n",
    "\n",
    "# Calculate confusion matrix\n",
    "conf_matrix = confusion_matrix(y_test_tensor.numpy(), predicted_classes)\n",
    "\n",
    "# Print confusion matrix\n",
    "print(\"Confusion Matrix:\")\n",
    "print(conf_matrix)\n",
    "\n",
    "# Calculate classification report\n",
    "class_report = classification_report(y_test_tensor.numpy(), predicted_classes)\n",
    "\n",
    "# Print classification report\n",
    "print(\"\\nClassification Report:\")\n",
    "print(class_report)\n"
   ]
  }
 ],
 "metadata": {
  "kernelspec": {
   "display_name": "Python 3 (ipykernel)",
   "language": "python",
   "name": "python3"
  },
  "language_info": {
   "codemirror_mode": {
    "name": "ipython",
    "version": 3
   },
   "file_extension": ".py",
   "mimetype": "text/x-python",
   "name": "python",
   "nbconvert_exporter": "python",
   "pygments_lexer": "ipython3",
   "version": "3.12.2"
  }
 },
 "nbformat": 4,
 "nbformat_minor": 5
}
